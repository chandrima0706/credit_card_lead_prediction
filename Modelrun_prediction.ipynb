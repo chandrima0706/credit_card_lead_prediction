{
 "cells": [
  {
   "cell_type": "markdown",
   "metadata": {},
   "source": [
    "# Ensamble model preparation to forecast credit card lead 
   ]
  },
  {
   "cell_type": "markdown",
   "metadata": {},
   "source": [
    "Written by - Chandrima Chakrabarty (28-5-2021)  chakrabartychandrima91@gmail.com "
   ]
  },
  {
   "cell_type": "code",
   "execution_count": 1,
   "metadata": {},
   "outputs": [],
   "source": [
    "import pandas as pd\n",
    "import matplotlib.pyplot as plt\n",
    "import seaborn as sns\n",
    "import numpy as np\n",
    "from sklearn.model_selection import train_test_split\n",
    "from sklearn.preprocessing import StandardScaler\n",
    "from sklearn.metrics import roc_auc_score\n",
    "from catboost import CatBoostClassifier\n",
    "from sklearn.utils import class_weight\n",
    "\n",
    "from sklearn import preprocessing"
   ]
  },
  {
   "cell_type": "markdown",
   "metadata": {},
   "source": [
    "###### !!!!! Before execution of next line run TrainData_processing.py & Testdata_processing.py"
   ]
  },
  {
   "cell_type": "code",
   "execution_count": null,
   "metadata": {},
   "outputs": [],
   "source": [
    "%store -r X_train\n",
    "%store -r y_train"
   ]
  },
  {
   "cell_type": "markdown",
   "metadata": {},
   "source": [
    "### Train Test Splitting"
   ]
  },
  {
   "cell_type": "code",
   "execution_count": 27,
   "metadata": {},
   "outputs": [],
   "source": [
    "X_train, X_cv, y_train, y_cv = train_test_split(X_train, y_train,stratify=y_train, test_size=0.3, random_state=42)"
   ]
  },
  {
   "cell_type": "code",
   "execution_count": 28,
   "metadata": {},
   "outputs": [
    {
     "name": "stdout",
     "output_type": "stream",
     "text": [
      "X_train :  (183687, 20)  y_train :  (183687, 1)\n",
      "X_cv :  (78724, 20)  y_cv :  (78724, 1)\n"
     ]
    }
   ],
   "source": [
    "print('X_train : ',X_train.shape,' y_train : ',y_train.shape)\n",
    "print('X_cv : ',X_cv.shape,' y_cv : ',y_cv.shape)"
   ]
  },
  {
   "cell_type": "code",
   "execution_count": 29,
   "metadata": {},
   "outputs": [
    {
     "name": "stdout",
     "output_type": "stream",
     "text": [
      "Using class weights while training\n"
     ]
    },
    {
     "name": "stderr",
     "output_type": "stream",
     "text": [
      "C:\\Users\\Abir\\anaconda3\\lib\\site-packages\\sklearn\\utils\\validation.py:70: FutureWarning: Pass classes=[0 1], y=110368    0\n",
      "189853    0\n",
      "216398    0\n",
      "226820    0\n",
      "248374    1\n",
      "         ..\n",
      "95296     1\n",
      "63310     0\n",
      "243112    0\n",
      "715       0\n",
      "134663    0\n",
      "Name: Is_Lead, Length: 183687, dtype: int64 as keyword args. From version 1.0 (renaming of 0.25) passing these as positional arguments will result in an error\n",
      "  warnings.warn(f\"Pass {args_msg} as keyword args. From version \"\n"
     ]
    },
    {
     "data": {
      "text/plain": [
       "[0.7, 1.75]"
      ]
     },
     "execution_count": 29,
     "metadata": {},
     "output_type": "execute_result"
    }
   ],
   "source": [
    "weights = class_weight.compute_class_weight('balanced',np.unique(y_train['Is_Lead']),y_train['Is_Lead'])\n",
    "print('Using class weights while training')\n",
    "list(weights)"
   ]
  },
  {
   "cell_type": "markdown",
   "metadata": {},
   "source": [
    "# Model Run"
   ]
  },
  {
   "cell_type": "markdown",
   "metadata": {},
   "source": [
    "#### Model-1 : Random Forest "
   ]
  },
  {
   "cell_type": "code",
   "execution_count": 31,
   "metadata": {},
   "outputs": [
    {
     "name": "stderr",
     "output_type": "stream",
     "text": [
      "<ipython-input-31-2eea085bb439>:10: DataConversionWarning: A column-vector y was passed when a 1d array was expected. Please change the shape of y to (n_samples,), for example using ravel().\n",
      "  model.fit(X_train,y_train)\n"
     ]
    },
    {
     "data": {
      "text/plain": [
       "RandomForestClassifier(random_state=42)"
      ]
     },
     "execution_count": 31,
     "metadata": {},
     "output_type": "execute_result"
    }
   ],
   "source": [
    "from sklearn.utils import class_weight\n",
    "weights = class_weight.compute_sample_weight(\n",
    "    class_weight='balanced',\n",
    "    y=y_train['Is_Lead'])\n",
    "\n",
    "from sklearn.ensemble import RandomForestClassifier\n",
    "#model = RandomForestClassifier()\n",
    "model = RandomForestClassifier(random_state=42)\n",
    "\n",
    "model.fit(X_train,y_train)"
   ]
  },
  {
   "cell_type": "code",
   "execution_count": 32,
   "metadata": {},
   "outputs": [
    {
     "name": "stdout",
     "output_type": "stream",
     "text": [
      "Train AUC : 0.9999999869298146\n",
      "CV AUC : 0.8813196811198605\n"
     ]
    }
   ],
   "source": [
    "print('Train AUC :',roc_auc_score(y_train, model.predict_proba(X_train)[:, 1]))\n",
    "print('CV AUC :',roc_auc_score(y_cv, model.predict_proba(X_cv)[:, 1]))"
   ]
  },
  {
   "cell_type": "raw",
   "metadata": {},
   "source": [
    "feat_imp=[t for t in zip(X_train.columns,model.get_feature_importance())]\n",
    "feat_imp_df=pd.DataFrame(feat_imp,columns=['feature','importance'])\n",
    "feat_imp_df=feat_imp_df.sort_values('importance',ascending=False)\n",
    "print('Most important Features are :')\n",
    "feat_imp_df=feat_imp_df[feat_imp_df['importance']>=1]\n",
    "sns.barplot(x='importance',y='feature',data=feat_imp_df)\n",
    "plt.show()"
   ]
  },
  {
   "cell_type": "code",
   "execution_count": 33,
   "metadata": {},
   "outputs": [
    {
     "data": {
      "text/plain": [
       "0.8466287282150298"
      ]
     },
     "execution_count": 33,
     "metadata": {},
     "output_type": "execute_result"
    }
   ],
   "source": [
    "model.score(X_cv,y_cv) #score "
   ]
  },
  {
   "cell_type": "code",
   "execution_count": 34,
   "metadata": {},
   "outputs": [],
   "source": [
    "y_predicted = model.predict(X_cv) #predict y"
   ]
  },
  {
   "cell_type": "code",
   "execution_count": 35,
   "metadata": {},
   "outputs": [
    {
     "data": {
      "text/plain": [
       "array([[52000,  4232],\n",
       "       [ 7842, 14650]], dtype=int64)"
      ]
     },
     "execution_count": 35,
     "metadata": {},
     "output_type": "execute_result"
    }
   ],
   "source": [
    "from sklearn.metrics import confusion_matrix\n",
    "\n",
    "\n",
    "cm = confusion_matrix(y_cv, y_predicted) #check confusion matrix to find the model accuracy\n",
    "cm "
   ]
  },
  {
   "cell_type": "code",
   "execution_count": 36,
   "metadata": {},
   "outputs": [
    {
     "name": "stdout",
     "output_type": "stream",
     "text": [
      "              precision    recall  f1-score   support\n",
      "\n",
      "           0       0.87      0.92      0.90     56232\n",
      "           1       0.78      0.65      0.71     22492\n",
      "\n",
      "    accuracy                           0.85     78724\n",
      "   macro avg       0.82      0.79      0.80     78724\n",
      "weighted avg       0.84      0.85      0.84     78724\n",
      "\n"
     ]
    }
   ],
   "source": [
    "from sklearn.metrics import confusion_matrix , classification_report\n",
    "\n",
    "\n",
    "print(classification_report(y_cv,y_predicted)) #check classification report"
   ]
  },
  {
   "cell_type": "markdown",
   "metadata": {},
   "source": [
    "#### Prediction : Random Forest"
   ]
  },
  {
   "cell_type": "code",
   "execution_count": 37,
   "metadata": {},
   "outputs": [],
   "source": [
    "%store -r test_catb\n",
    "%store -r id_catb"
   ]
  },
  {
   "cell_type": "code",
   "execution_count": 39,
   "metadata": {},
   "outputs": [],
   "source": [
    "pred_catb = model.predict_proba(test_catb)[:,1]"
   ]
  },
  {
   "cell_type": "code",
   "execution_count": 40,
   "metadata": {},
   "outputs": [],
   "source": [
    "predict_catb = pd.DataFrame(pred_catb,index=id_catb.ID,columns=['Is_Lead'])"
   ]
  },
  {
   "cell_type": "code",
   "execution_count": 41,
   "metadata": {},
   "outputs": [],
   "source": [
    "predict_catb.to_csv('rf_final_v1.csv')"
   ]
  },
  {
   "cell_type": "markdown",
   "metadata": {},
   "source": [
    "#### Model-2 : LGBM"
   ]
  },
  {
   "cell_type": "code",
   "execution_count": 34,
   "metadata": {},
   "outputs": [
    {
     "name": "stderr",
     "output_type": "stream",
     "text": [
      "C:\\Users\\Abir\\anaconda3\\lib\\site-packages\\sklearn\\utils\\validation.py:63: DataConversionWarning: A column-vector y was passed when a 1d array was expected. Please change the shape of y to (n_samples, ), for example using ravel().\n",
      "  return f(*args, **kwargs)\n"
     ]
    },
    {
     "data": {
      "text/plain": [
       "LGBMClassifier()"
      ]
     },
     "execution_count": 34,
     "metadata": {},
     "output_type": "execute_result"
    }
   ],
   "source": [
    "from sklearn.utils import class_weight\n",
    "weights = class_weight.compute_sample_weight(\n",
    "    class_weight='balanced',\n",
    "    y=y_train['Is_Lead'])\n",
    "\n",
    "\n",
    "\n",
    "import lightgbm as lgb\n",
    "model = lgb.LGBMClassifier()\n",
    "model.fit(X_train, y_train)\n"
   ]
  },
  {
   "cell_type": "code",
   "execution_count": 35,
   "metadata": {},
   "outputs": [
    {
     "name": "stdout",
     "output_type": "stream",
     "text": [
      "Train AUC : 0.8994720228913666\n",
      "CV AUC : 0.8925780952020954\n"
     ]
    }
   ],
   "source": [
    "print('Train AUC :',roc_auc_score(y_train, model.predict_proba(X_train)[:, 1]))\n",
    "print('CV AUC :',roc_auc_score(y_cv, model.predict_proba(X_cv)[:, 1]))"
   ]
  },
  {
   "cell_type": "raw",
   "metadata": {},
   "source": [
    "feat_imp=[t for t in zip(X_train.columns,model.get_feature_importance())]\n",
    "feat_imp_df=pd.DataFrame(feat_imp,columns=['feature','importance'])\n",
    "feat_imp_df=feat_imp_df.sort_values('importance',ascending=False)\n",
    "print('Most important Features are :')\n",
    "feat_imp_df=feat_imp_df[feat_imp_df['importance']>=1]\n",
    "sns.barplot(x='importance',y='feature',data=feat_imp_df)\n",
    "plt.show()"
   ]
  },
  {
   "cell_type": "code",
   "execution_count": 36,
   "metadata": {},
   "outputs": [
    {
     "data": {
      "text/plain": [
       "0.85776891418119"
      ]
     },
     "execution_count": 36,
     "metadata": {},
     "output_type": "execute_result"
    }
   ],
   "source": [
    "model.score(X_cv,y_cv) #score "
   ]
  },
  {
   "cell_type": "code",
   "execution_count": 37,
   "metadata": {},
   "outputs": [],
   "source": [
    "y_predicted = model.predict(X_cv) #predict y"
   ]
  },
  {
   "cell_type": "code",
   "execution_count": 38,
   "metadata": {},
   "outputs": [
    {
     "data": {
      "text/plain": [
       "array([[52977,  3255],\n",
       "       [ 7942, 14550]], dtype=int64)"
      ]
     },
     "execution_count": 38,
     "metadata": {},
     "output_type": "execute_result"
    }
   ],
   "source": [
    "from sklearn.metrics import confusion_matrix\n",
    "\n",
    "\n",
    "cm = confusion_matrix(y_cv, y_predicted) #check confusion matrix to find the model accuracy\n",
    "cm "
   ]
  },
  {
   "cell_type": "code",
   "execution_count": 39,
   "metadata": {},
   "outputs": [
    {
     "name": "stdout",
     "output_type": "stream",
     "text": [
      "              precision    recall  f1-score   support\n",
      "\n",
      "           0       0.87      0.94      0.90     56232\n",
      "           1       0.82      0.65      0.72     22492\n",
      "\n",
      "    accuracy                           0.86     78724\n",
      "   macro avg       0.84      0.79      0.81     78724\n",
      "weighted avg       0.85      0.86      0.85     78724\n",
      "\n"
     ]
    }
   ],
   "source": [
    "from sklearn.metrics import confusion_matrix , classification_report\n",
    "\n",
    "\n",
    "print(classification_report(y_cv,y_predicted)) #check classification report"
   ]
  },
  {
   "cell_type": "markdown",
   "metadata": {},
   "source": [
    "#### Prediction : LGBM"
   ]
  },
  {
   "cell_type": "code",
   "execution_count": 40,
   "metadata": {},
   "outputs": [],
   "source": [
    "%store -r test_catb\n",
    "%store -r id_catb"
   ]
  },
  {
   "cell_type": "code",
   "execution_count": 42,
   "metadata": {},
   "outputs": [],
   "source": [
    "pred_catb = model.predict_proba(test_catb)[:,1]"
   ]
  },
  {
   "cell_type": "code",
   "execution_count": 43,
   "metadata": {},
   "outputs": [],
   "source": [
    "predict_catb = pd.DataFrame(pred_catb,index=id_catb.ID,columns=['Is_Lead'])"
   ]
  },
  {
   "cell_type": "code",
   "execution_count": 44,
   "metadata": {},
   "outputs": [],
   "source": [
    "predict_catb.to_csv('lgbm_v1.csv')"
   ]
  },
  {
   "cell_type": "markdown",
   "metadata": {},
   "source": [
    "#### Model-3 : XGBoost"
   ]
  },
  {
   "cell_type": "code",
   "execution_count": 31,
   "metadata": {},
   "outputs": [
    {
     "name": "stderr",
     "output_type": "stream",
     "text": [
      "C:\\Users\\Abir\\anaconda3\\lib\\site-packages\\xgboost\\sklearn.py:1146: UserWarning: The use of label encoder in XGBClassifier is deprecated and will be removed in a future release. To remove this warning, do the following: 1) Pass option use_label_encoder=False when constructing XGBClassifier object; and 2) Encode your labels (y) as integers starting with 0, i.e. 0, 1, 2, ..., [num_class - 1].\n",
      "  warnings.warn(label_encoder_deprecation_msg, UserWarning)\n",
      "C:\\Users\\Abir\\anaconda3\\lib\\site-packages\\sklearn\\utils\\validation.py:63: DataConversionWarning: A column-vector y was passed when a 1d array was expected. Please change the shape of y to (n_samples, ), for example using ravel().\n",
      "  return f(*args, **kwargs)\n"
     ]
    },
    {
     "name": "stdout",
     "output_type": "stream",
     "text": [
      "[17:05:33] WARNING: C:/Users/Administrator/workspace/xgboost-win64_release_1.4.0/src/learner.cc:1095: Starting in XGBoost 1.3.0, the default evaluation metric used with the objective 'binary:logistic' was changed from 'error' to 'logloss'. Explicitly set eval_metric if you'd like to restore the old behavior.\n"
     ]
    },
    {
     "data": {
      "text/plain": [
       "XGBClassifier(base_score=0.5, booster='gbtree', colsample_bylevel=1,\n",
       "              colsample_bynode=1, colsample_bytree=1, gamma=0, gpu_id=-1,\n",
       "              importance_type='gain', interaction_constraints='',\n",
       "              learning_rate=0.15, max_delta_step=0, max_depth=6,\n",
       "              min_child_weight=1, missing=nan, monotone_constraints='()',\n",
       "              n_estimators=100, n_jobs=8, num_parallel_tree=1, random_state=0,\n",
       "              reg_alpha=0, reg_lambda=1, scale_pos_weight=1, subsample=1,\n",
       "              tree_method='exact', validate_parameters=1, verbosity=None)"
      ]
     },
     "execution_count": 31,
     "metadata": {},
     "output_type": "execute_result"
    }
   ],
   "source": [
    "from sklearn.utils import class_weight\n",
    "weights = class_weight.compute_sample_weight(\n",
    "    class_weight='balanced',\n",
    "    y=y_train['Is_Lead'])\n",
    "\n",
    "\n",
    "from xgboost import XGBClassifier\n",
    "\n",
    "model = XGBClassifier(learning_rate=0.15)\n",
    "#model.fit(X_train, y_train)\n",
    "model.fit(X_train,y_train,sample_weight=weights)"
   ]
  },
  {
   "cell_type": "code",
   "execution_count": 32,
   "metadata": {},
   "outputs": [
    {
     "name": "stdout",
     "output_type": "stream",
     "text": [
      "Train AUC : 0.9027218651585543\n",
      "CV AUC : 0.8910269295540867\n"
     ]
    }
   ],
   "source": [
    "print('Train AUC :',roc_auc_score(y_train, model.predict_proba(X_train)[:, 1]))\n",
    "print('CV AUC :',roc_auc_score(y_cv, model.predict_proba(X_cv)[:, 1]))"
   ]
  },
  {
   "cell_type": "raw",
   "metadata": {},
   "source": [
    "feat_imp=[t for t in zip(X_train.columns,model.get_feature_importance())]\n",
    "feat_imp_df=pd.DataFrame(feat_imp,columns=['feature','importance'])\n",
    "feat_imp_df=feat_imp_df.sort_values('importance',ascending=False)\n",
    "print('Most important Features are :')\n",
    "feat_imp_df=feat_imp_df[feat_imp_df['importance']>=1]\n",
    "sns.barplot(x='importance',y='feature',data=feat_imp_df)\n",
    "plt.show()"
   ]
  },
  {
   "cell_type": "code",
   "execution_count": 33,
   "metadata": {},
   "outputs": [
    {
     "data": {
      "text/plain": [
       "0.8339769320664601"
      ]
     },
     "execution_count": 33,
     "metadata": {},
     "output_type": "execute_result"
    }
   ],
   "source": [
    "model.score(X_cv,y_cv) #score "
   ]
  },
  {
   "cell_type": "code",
   "execution_count": 34,
   "metadata": {},
   "outputs": [],
   "source": [
    "y_predicted = model.predict(X_cv) #predict y"
   ]
  },
  {
   "cell_type": "code",
   "execution_count": 35,
   "metadata": {},
   "outputs": [
    {
     "data": {
      "text/plain": [
       "array([[47805,  8427],\n",
       "       [ 4643, 17849]], dtype=int64)"
      ]
     },
     "execution_count": 35,
     "metadata": {},
     "output_type": "execute_result"
    }
   ],
   "source": [
    "from sklearn.metrics import confusion_matrix\n",
    "\n",
    "\n",
    "cm = confusion_matrix(y_cv, y_predicted) #check confusion matrix to find the model accuracy\n",
    "cm "
   ]
  },
  {
   "cell_type": "code",
   "execution_count": 36,
   "metadata": {},
   "outputs": [
    {
     "name": "stdout",
     "output_type": "stream",
     "text": [
      "              precision    recall  f1-score   support\n",
      "\n",
      "           0       0.91      0.85      0.88     56232\n",
      "           1       0.68      0.79      0.73     22492\n",
      "\n",
      "    accuracy                           0.83     78724\n",
      "   macro avg       0.80      0.82      0.81     78724\n",
      "weighted avg       0.85      0.83      0.84     78724\n",
      "\n"
     ]
    }
   ],
   "source": [
    "from sklearn.metrics import confusion_matrix , classification_report\n",
    "\n",
    "\n",
    "print(classification_report(y_cv,y_predicted)) #check classification report"
   ]
  },
  {
   "cell_type": "markdown",
   "metadata": {},
   "source": [
    "#### Prediction : XGBoost"
   ]
  },
  {
   "cell_type": "code",
   "execution_count": 37,
   "metadata": {},
   "outputs": [],
   "source": [
    "%store -r test_catb\n",
    "%store -r id_catb"
   ]
  },
  {
   "cell_type": "code",
   "execution_count": 39,
   "metadata": {},
   "outputs": [],
   "source": [
    "pred_catb = model.predict_proba(test_catb)[:,1]"
   ]
  },
  {
   "cell_type": "code",
   "execution_count": 40,
   "metadata": {},
   "outputs": [],
   "source": [
    "predict_catb = pd.DataFrame(pred_catb,index=id_catb.ID,columns=['Is_Lead'])"
   ]
  },
  {
   "cell_type": "code",
   "execution_count": 41,
   "metadata": {},
   "outputs": [],
   "source": [
    "predict_catb.to_csv('xgb_v1.csv')"
   ]
  },
  {
   "cell_type": "markdown",
   "metadata": {},
   "source": [
    "#### Model-4 : AdaBoost"
   ]
  },
  {
   "cell_type": "code",
   "execution_count": null,
   "metadata": {},
   "outputs": [
    {
     "name": "stderr",
     "output_type": "stream",
     "text": [
      "C:\\Users\\Abir\\anaconda3\\lib\\site-packages\\sklearn\\utils\\validation.py:63: DataConversionWarning: A column-vector y was passed when a 1d array was expected. Please change the shape of y to (n_samples, ), for example using ravel().\n",
      "  return f(*args, **kwargs)\n"
     ]
    }
   ],
   "source": [
    "from sklearn.utils import class_weight\n",
    "weights = class_weight.compute_sample_weight(\n",
    "    class_weight='balanced',\n",
    "    y=y_train['Is_Lead'])\n",
    "\n",
    "\n",
    "from sklearn.ensemble import AdaBoostClassifier\n",
    "\n",
    "model = AdaBoostClassifier(n_estimators=100, random_state=0, algorithm='SAMME')\n",
    "model.fit(X_train, y_train,sample_weight=weights)  "
   ]
  },
  {
   "cell_type": "code",
   "execution_count": null,
   "metadata": {},
   "outputs": [],
   "source": [
    "print('Train AUC :',roc_auc_score(y_train, model.predict_proba(X_train)[:, 1]))\n",
    "print('CV AUC :',roc_auc_score(y_cv, model.predict_proba(X_cv)[:, 1]))"
   ]
  },
  {
   "cell_type": "code",
   "execution_count": null,
   "metadata": {},
   "outputs": [],
   "source": [
    "#Feature importance\n",
    "\n",
    "feat_imp=[t for t in zip(X_train.columns,model.get_feature_importance())]\n",
    "feat_imp_df=pd.DataFrame(feat_imp,columns=['feature','importance'])\n",
    "feat_imp_df=feat_imp_df.sort_values('importance',ascending=False)\n",
    "print('Most important Features are :')\n",
    "feat_imp_df=feat_imp_df[feat_imp_df['importance']>=1]\n",
    "sns.barplot(x='importance',y='feature',data=feat_imp_df)\n",
    "plt.show()"
   ]
  },
  {
   "cell_type": "code",
   "execution_count": null,
   "metadata": {},
   "outputs": [],
   "source": [
    "model.score(X_cv,y_cv) #score "
   ]
  },
  {
   "cell_type": "code",
   "execution_count": null,
   "metadata": {},
   "outputs": [],
   "source": [
    "y_predicted = model.predict(X_cv) #predict y"
   ]
  },
  {
   "cell_type": "code",
   "execution_count": null,
   "metadata": {},
   "outputs": [],
   "source": [
    "from sklearn.metrics import confusion_matrix\n",
    "\n",
    "\n",
    "cm = confusion_matrix(y_cv, y_predicted) #check confusion matrix to find the model accuracy\n",
    "cm "
   ]
  },
  {
   "cell_type": "code",
   "execution_count": null,
   "metadata": {},
   "outputs": [],
   "source": [
    "from sklearn.metrics import confusion_matrix , classification_report\n",
    "print(classification_report(y_cv,y_predicted)) #check classification report"
   ]
  },
  {
   "cell_type": "code",
   "execution_count": null,
   "metadata": {},
   "outputs": [],
   "source": [
    "from sklearn.utils import class_weight\n",
    "weights = class_weight.compute_sample_weight(\n",
    "    class_weight='balanced',\n",
    "    y=y_train['Is_Lead'])\n",
    "\n",
    "\n",
    "from sklearn.ensemble import AdaBoostClassifier\n",
    "\n",
    "model = AdaBoostClassifier(n_estimators=100, random_state=0, algorithm='SAMME')\n",
    "model.fit(X_train, y_train,sample_weight=weights)  \n",
    "\n",
    "# Evaluate model\n",
    "\n",
    "print('Train AUC :',roc_auc_score(y_train, model.predict_proba(X_train)[:, 1]))\n",
    "print('CV AUC :',roc_auc_score(y_cv, model.predict_proba(X_cv)[:, 1]))\n",
    "\n",
    "#Feature importance\n",
    "\n",
    "feat_imp=[t for t in zip(X_train.columns,model.get_feature_importance())]\n",
    "feat_imp_df=pd.DataFrame(feat_imp,columns=['feature','importance'])\n",
    "feat_imp_df=feat_imp_df.sort_values('importance',ascending=False)\n",
    "print('Most important Features are :')\n",
    "feat_imp_df=feat_imp_df[feat_imp_df['importance']>=1]\n",
    "sns.barplot(x='importance',y='feature',data=feat_imp_df)\n",
    "plt.show()\n",
    "\n",
    "model.score(X_cv,y_cv) #score \n",
    "\n",
    "y_predicted = model.predict(X_cv) #predict y\n",
    "\n",
    "from sklearn.metrics import confusion_matrix\n",
    "\n",
    "\n",
    "cm = confusion_matrix(y_cv, y_predicted) #check confusion matrix to find the model accuracy\n",
    "cm \n",
    "\n",
    "from sklearn.metrics import confusion_matrix , classification_report\n",
    "print(classification_report(y_cv,y_predicted)) #check classification report"
   ]
  },
  {
   "cell_type": "markdown",
   "metadata": {},
   "source": [
    "#### Prediction : XGBoost"
   ]
  },
  {
   "cell_type": "code",
   "execution_count": null,
   "metadata": {},
   "outputs": [],
   "source": [
    "%store -r test_catb\n",
    "%store -r id_catb"
   ]
  },
  {
   "cell_type": "code",
   "execution_count": null,
   "metadata": {},
   "outputs": [],
   "source": [
    "test_catb.shape"
   ]
  },
  {
   "cell_type": "code",
   "execution_count": null,
   "metadata": {},
   "outputs": [],
   "source": [
    "pred_catb = model.predict_proba(test_catb)[:, 1]"
   ]
  },
  {
   "cell_type": "code",
   "execution_count": null,
   "metadata": {},
   "outputs": [],
   "source": [
    "predict_catb = pd.DataFrame(pred_catb,index=id_catb.ID,columns=['Is_Lead'])"
   ]
  },
  {
   "cell_type": "code",
   "execution_count": null,
   "metadata": {},
   "outputs": [],
   "source": [
    "predict_catb.to_csv('adaboost_final_v1.csv')"
   ]
  },
  {
   "cell_type": "markdown",
   "metadata": {},
   "source": [
    "#### Model-5 : CatBoost"
   ]
  },
  {
   "cell_type": "markdown",
   "metadata": {},
   "source": [
    "###### only this model we applied 3fold cross validation. to avoide over fitting you can aplly this to every model. Due to resource limitation we applied only once."
   ]
  },
  {
   "cell_type": "code",
   "execution_count": 68,
   "metadata": {},
   "outputs": [],
   "source": [
    "from sklearn.model_selection import KFold, StratifiedKFold\n",
    "from sklearn.metrics import roc_auc_score\n",
    "\n",
    "def cross_val(X, y, model, params, folds=3):\n",
    "\n",
    "    skf = StratifiedKFold(n_splits=folds, shuffle=True, random_state=21)\n",
    "    for fold, (train_idx, test_idx) in enumerate(skf.split(X, y)):\n",
    "        print(f\"Fold: {fold}\")\n",
    "        x_train, y_train = X.iloc[train_idx], y.iloc[train_idx]\n",
    "        x_test, y_test = X.iloc[test_idx], y.iloc[test_idx]\n",
    "\n",
    "        alg = model(**params)\n",
    "        alg.fit(x_train, y_train,\n",
    "                eval_set=[(x_test, y_test)],\n",
    "                early_stopping_rounds=100,\n",
    "                verbose=400)\n",
    "\n",
    "        pred = alg.predict_proba(x_test)[:, 1]\n",
    "        roc_score = roc_auc_score(y_test, pred)\n",
    "        print(f\"roc_auc_score: {roc_score}\")\n",
    "        print(\"-\"*50)\n",
    "    \n",
    "    return alg"
   ]
  },
  {
   "cell_type": "code",
   "execution_count": 69,
   "metadata": {},
   "outputs": [],
   "source": [
    "cat_params= {'n_estimators': 20000, \n",
    "                  'depth': 4, \n",
    "                  'learning_rate': 0.023, \n",
    "                  'colsample_bylevel': 0.655, \n",
    "                  'bagging_temperature': 0.921, \n",
    "                  'l2_leaf_reg': 10.133,\n",
    "                    'random_seed':42,\n",
    "                    'class_weights':list(weights)\n",
    "            }"
   ]
  },
  {
   "cell_type": "code",
   "execution_count": 70,
   "metadata": {},
   "outputs": [
    {
     "name": "stdout",
     "output_type": "stream",
     "text": [
      "Fold: 0\n",
      "0:\tlearn: 0.6829218\ttest: 0.6828477\tbest: 0.6828477 (0)\ttotal: 126ms\tremaining: 41m 54s\n",
      "400:\tlearn: 0.4022744\ttest: 0.4002083\tbest: 0.4002083 (400)\ttotal: 14.8s\tremaining: 12m 4s\n",
      "800:\tlearn: 0.3700849\ttest: 0.3686131\tbest: 0.3686131 (800)\ttotal: 28.6s\tremaining: 11m 25s\n",
      "1200:\tlearn: 0.3507504\ttest: 0.3495050\tbest: 0.3495050 (1200)\ttotal: 41.6s\tremaining: 10m 50s\n",
      "1600:\tlearn: 0.3411398\ttest: 0.3404996\tbest: 0.3404996 (1600)\ttotal: 57.3s\tremaining: 10m 58s\n",
      "2000:\tlearn: 0.3354643\ttest: 0.3356169\tbest: 0.3356158 (1998)\ttotal: 1m 11s\tremaining: 10m 46s\n",
      "2400:\tlearn: 0.3306996\ttest: 0.3315425\tbest: 0.3315425 (2400)\ttotal: 1m 25s\tremaining: 10m 26s\n",
      "2800:\tlearn: 0.3265129\ttest: 0.3280184\tbest: 0.3280172 (2796)\ttotal: 1m 38s\tremaining: 10m 6s\n",
      "3200:\tlearn: 0.3238552\ttest: 0.3261935\tbest: 0.3261935 (3200)\ttotal: 1m 52s\tremaining: 9m 48s\n",
      "3600:\tlearn: 0.3216591\ttest: 0.3248386\tbest: 0.3248378 (3599)\ttotal: 2m 6s\tremaining: 9m 34s\n",
      "4000:\tlearn: 0.3195240\ttest: 0.3234939\tbest: 0.3234939 (4000)\ttotal: 2m 20s\tremaining: 9m 20s\n",
      "4400:\tlearn: 0.3175134\ttest: 0.3222257\tbest: 0.3222223 (4393)\ttotal: 2m 33s\tremaining: 9m 4s\n",
      "4800:\tlearn: 0.3159301\ttest: 0.3213789\tbest: 0.3213774 (4795)\ttotal: 2m 47s\tremaining: 8m 48s\n",
      "5200:\tlearn: 0.3146222\ttest: 0.3208012\tbest: 0.3208012 (5200)\ttotal: 3m 1s\tremaining: 8m 35s\n",
      "5600:\tlearn: 0.3134388\ttest: 0.3203110\tbest: 0.3203093 (5597)\ttotal: 3m 14s\tremaining: 8m 21s\n",
      "6000:\tlearn: 0.3122269\ttest: 0.3197504\tbest: 0.3197504 (6000)\ttotal: 3m 28s\tremaining: 8m 7s\n",
      "6400:\tlearn: 0.3111344\ttest: 0.3193532\tbest: 0.3193532 (6400)\ttotal: 3m 41s\tremaining: 7m 51s\n",
      "6800:\tlearn: 0.3100668\ttest: 0.3189743\tbest: 0.3189736 (6798)\ttotal: 3m 55s\tremaining: 7m 37s\n",
      "7200:\tlearn: 0.3090205\ttest: 0.3185869\tbest: 0.3185868 (7199)\ttotal: 4m 9s\tremaining: 7m 23s\n",
      "7600:\tlearn: 0.3081145\ttest: 0.3183272\tbest: 0.3183259 (7596)\ttotal: 4m 23s\tremaining: 7m 10s\n",
      "8000:\tlearn: 0.3072346\ttest: 0.3180922\tbest: 0.3180897 (7990)\ttotal: 4m 37s\tremaining: 6m 55s\n",
      "8400:\tlearn: 0.3063417\ttest: 0.3178880\tbest: 0.3178838 (8387)\ttotal: 4m 50s\tremaining: 6m 41s\n",
      "8800:\tlearn: 0.3054603\ttest: 0.3176352\tbest: 0.3176340 (8798)\ttotal: 5m 5s\tremaining: 6m 28s\n",
      "Stopped by overfitting detector  (100 iterations wait)\n",
      "\n",
      "bestTest = 0.3174814858\n",
      "bestIteration = 9081\n",
      "\n",
      "Shrink model to first 9082 iterations.\n",
      "roc_auc_score: 0.9316908970530615\n",
      "--------------------------------------------------\n",
      "Fold: 1\n",
      "0:\tlearn: 0.6828119\ttest: 0.6828707\tbest: 0.6828707 (0)\ttotal: 60.2ms\tremaining: 20m 3s\n",
      "400:\tlearn: 0.4007761\ttest: 0.4021944\tbest: 0.4021944 (400)\ttotal: 14.1s\tremaining: 11m 27s\n",
      "800:\tlearn: 0.3687312\ttest: 0.3712124\tbest: 0.3712124 (800)\ttotal: 28s\tremaining: 11m 10s\n",
      "1200:\tlearn: 0.3492566\ttest: 0.3522713\tbest: 0.3522713 (1200)\ttotal: 42.6s\tremaining: 11m 6s\n",
      "1600:\tlearn: 0.3397305\ttest: 0.3433282\tbest: 0.3433282 (1600)\ttotal: 56.5s\tremaining: 10m 48s\n",
      "2000:\tlearn: 0.3337321\ttest: 0.3380710\tbest: 0.3380710 (2000)\ttotal: 1m 10s\tremaining: 10m 33s\n",
      "2400:\tlearn: 0.3294122\ttest: 0.3344321\tbest: 0.3344321 (2400)\ttotal: 1m 24s\tremaining: 10m 16s\n",
      "2800:\tlearn: 0.3260336\ttest: 0.3318559\tbest: 0.3318559 (2800)\ttotal: 1m 38s\tremaining: 10m 2s\n",
      "3200:\tlearn: 0.3230577\ttest: 0.3296438\tbest: 0.3296438 (3200)\ttotal: 1m 51s\tremaining: 9m 47s\n",
      "3600:\tlearn: 0.3202931\ttest: 0.3275197\tbest: 0.3275192 (3599)\ttotal: 2m 5s\tremaining: 9m 32s\n",
      "4000:\tlearn: 0.3179856\ttest: 0.3259225\tbest: 0.3259222 (3998)\ttotal: 2m 19s\tremaining: 9m 17s\n",
      "4400:\tlearn: 0.3162566\ttest: 0.3248870\tbest: 0.3248848 (4390)\ttotal: 2m 33s\tremaining: 9m 2s\n",
      "4800:\tlearn: 0.3147930\ttest: 0.3241347\tbest: 0.3241345 (4799)\ttotal: 2m 46s\tremaining: 8m 48s\n",
      "5200:\tlearn: 0.3133246\ttest: 0.3233533\tbest: 0.3233533 (5200)\ttotal: 3m\tremaining: 8m 34s\n",
      "5600:\tlearn: 0.3119273\ttest: 0.3226306\tbest: 0.3226300 (5599)\ttotal: 3m 14s\tremaining: 8m 19s\n",
      "6000:\tlearn: 0.3107144\ttest: 0.3220923\tbest: 0.3220920 (5999)\ttotal: 3m 28s\tremaining: 8m 5s\n",
      "6400:\tlearn: 0.3096359\ttest: 0.3217095\tbest: 0.3217074 (6386)\ttotal: 3m 42s\tremaining: 7m 52s\n",
      "6800:\tlearn: 0.3086820\ttest: 0.3214505\tbest: 0.3214502 (6798)\ttotal: 3m 56s\tremaining: 7m 38s\n",
      "7200:\tlearn: 0.3077218\ttest: 0.3211839\tbest: 0.3211814 (7193)\ttotal: 4m 10s\tremaining: 7m 24s\n",
      "7600:\tlearn: 0.3067445\ttest: 0.3208711\tbest: 0.3208685 (7591)\ttotal: 4m 23s\tremaining: 7m 9s\n",
      "8000:\tlearn: 0.3059157\ttest: 0.3206873\tbest: 0.3206855 (7986)\ttotal: 4m 37s\tremaining: 6m 55s\n",
      "8400:\tlearn: 0.3050628\ttest: 0.3204639\tbest: 0.3204603 (8376)\ttotal: 4m 51s\tremaining: 6m 42s\n",
      "8800:\tlearn: 0.3042379\ttest: 0.3202363\tbest: 0.3202351 (8785)\ttotal: 5m 5s\tremaining: 6m 28s\n",
      "9200:\tlearn: 0.3034250\ttest: 0.3200323\tbest: 0.3200323 (9187)\ttotal: 5m 19s\tremaining: 6m 14s\n",
      "Stopped by overfitting detector  (100 iterations wait)\n",
      "\n",
      "bestTest = 0.3200190234\n",
      "bestIteration = 9264\n",
      "\n",
      "Shrink model to first 9265 iterations.\n",
      "roc_auc_score: 0.9306651768368407\n",
      "--------------------------------------------------\n",
      "Fold: 2\n",
      "0:\tlearn: 0.6828908\ttest: 0.6829228\tbest: 0.6829228 (0)\ttotal: 54.7ms\tremaining: 18m 13s\n",
      "400:\tlearn: 0.4005306\ttest: 0.4031544\tbest: 0.4031544 (400)\ttotal: 13.9s\tremaining: 11m 20s\n",
      "800:\tlearn: 0.3672098\ttest: 0.3701406\tbest: 0.3701406 (800)\ttotal: 28s\tremaining: 11m 10s\n",
      "1200:\tlearn: 0.3491140\ttest: 0.3525466\tbest: 0.3525466 (1200)\ttotal: 42.2s\tremaining: 11m\n",
      "1600:\tlearn: 0.3396734\ttest: 0.3437699\tbest: 0.3437699 (1600)\ttotal: 55.9s\tremaining: 10m 42s\n",
      "2000:\tlearn: 0.3334697\ttest: 0.3381986\tbest: 0.3381986 (2000)\ttotal: 1m 9s\tremaining: 10m 29s\n",
      "2400:\tlearn: 0.3291442\ttest: 0.3345058\tbest: 0.3345053 (2394)\ttotal: 1m 23s\tremaining: 10m 13s\n",
      "2800:\tlearn: 0.3255075\ttest: 0.3315057\tbest: 0.3315057 (2800)\ttotal: 1m 37s\tremaining: 9m 58s\n",
      "3200:\tlearn: 0.3226955\ttest: 0.3293375\tbest: 0.3293371 (3199)\ttotal: 1m 51s\tremaining: 9m 44s\n",
      "3600:\tlearn: 0.3202431\ttest: 0.3275482\tbest: 0.3275482 (3600)\ttotal: 2m 5s\tremaining: 9m 30s\n",
      "4000:\tlearn: 0.3183300\ttest: 0.3263576\tbest: 0.3263576 (4000)\ttotal: 2m 18s\tremaining: 9m 14s\n",
      "4400:\tlearn: 0.3166658\ttest: 0.3254568\tbest: 0.3254559 (4399)\ttotal: 2m 32s\tremaining: 9m\n",
      "4800:\tlearn: 0.3149936\ttest: 0.3244678\tbest: 0.3244678 (4800)\ttotal: 2m 46s\tremaining: 8m 46s\n",
      "5200:\tlearn: 0.3136116\ttest: 0.3237547\tbest: 0.3237520 (5196)\ttotal: 2m 59s\tremaining: 8m 31s\n",
      "5600:\tlearn: 0.3123383\ttest: 0.3231618\tbest: 0.3231618 (5600)\ttotal: 3m 13s\tremaining: 8m 17s\n",
      "6000:\tlearn: 0.3110637\ttest: 0.3225819\tbest: 0.3225819 (6000)\ttotal: 3m 27s\tremaining: 8m 3s\n",
      "6400:\tlearn: 0.3099326\ttest: 0.3221799\tbest: 0.3221798 (6399)\ttotal: 3m 40s\tremaining: 7m 49s\n",
      "6800:\tlearn: 0.3089393\ttest: 0.3218637\tbest: 0.3218574 (6787)\ttotal: 3m 54s\tremaining: 7m 34s\n",
      "7200:\tlearn: 0.3078991\ttest: 0.3214214\tbest: 0.3214199 (7193)\ttotal: 4m 8s\tremaining: 7m 20s\n",
      "7600:\tlearn: 0.3068036\ttest: 0.3210005\tbest: 0.3209998 (7596)\ttotal: 4m 21s\tremaining: 7m 6s\n",
      "8000:\tlearn: 0.3059284\ttest: 0.3207530\tbest: 0.3207504 (7994)\ttotal: 4m 35s\tremaining: 6m 52s\n",
      "8400:\tlearn: 0.3050444\ttest: 0.3205188\tbest: 0.3205177 (8397)\ttotal: 4m 50s\tremaining: 6m 40s\n",
      "Stopped by overfitting detector  (100 iterations wait)\n",
      "\n",
      "bestTest = 0.3203485013\n",
      "bestIteration = 8688\n",
      "\n",
      "Shrink model to first 8689 iterations.\n",
      "roc_auc_score: 0.9304797628157995\n",
      "--------------------------------------------------\n"
     ]
    }
   ],
   "source": [
    "from catboost import CatBoostClassifier\n",
    "cat_model = cross_val(X_train, y_train, CatBoostClassifier, cat_params)"
   ]
  },
  {
   "cell_type": "code",
   "execution_count": 71,
   "metadata": {},
   "outputs": [
    {
     "name": "stdout",
     "output_type": "stream",
     "text": [
      "Train AUC : 0.9368184906218427\n",
      "CV AUC : 0.936515328833647\n"
     ]
    }
   ],
   "source": [
    "print('Train AUC :',roc_auc_score(y_train, cat_model.predict_proba(X_train)[:, 1]))\n",
    "print('CV AUC :',roc_auc_score(y_cv, cat_model.predict_proba(X_cv)[:, 1]))"
   ]
  },
  {
   "cell_type": "code",
   "execution_count": 73,
   "metadata": {},
   "outputs": [
    {
     "name": "stdout",
     "output_type": "stream",
     "text": [
      "Most important Features are :\n"
     ]
    },
    {
     "data": {
      "image/png": "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\n",
      "text/plain": [
       "<Figure size 432x288 with 1 Axes>"
      ]
     },
     "metadata": {
      "needs_background": "light"
     },
     "output_type": "display_data"
    }
   ],
   "source": [
    "feat_imp=[t for t in zip(X_train.columns,cat_model.get_feature_importance())]\n",
    "feat_imp_df=pd.DataFrame(feat_imp,columns=['feature','importance'])\n",
    "feat_imp_df=feat_imp_df.sort_values('importance',ascending=False)\n",
    "print('Most important Features are :')\n",
    "feat_imp_df=feat_imp_df[feat_imp_df['importance']>=1]\n",
    "sns.barplot(x='importance',y='feature',data=feat_imp_df)\n",
    "plt.show()"
   ]
  },
  {
   "cell_type": "code",
   "execution_count": 74,
   "metadata": {},
   "outputs": [
    {
     "data": {
      "text/plain": [
       "0.8781371568300544"
      ]
     },
     "execution_count": 74,
     "metadata": {},
     "output_type": "execute_result"
    }
   ],
   "source": [
    "cat_model.score(X_cv,y_cv) #score "
   ]
  },
  {
   "cell_type": "code",
   "execution_count": 75,
   "metadata": {},
   "outputs": [],
   "source": [
    "y_predicted = cat_model.predict(X_cv) #predict y"
   ]
  },
  {
   "cell_type": "code",
   "execution_count": 76,
   "metadata": {},
   "outputs": [
    {
     "data": {
      "text/plain": [
       "array([[50914,  5317],\n",
       "       [ 5647, 28092]], dtype=int64)"
      ]
     },
     "execution_count": 76,
     "metadata": {},
     "output_type": "execute_result"
    }
   ],
   "source": [
    "from sklearn.metrics import confusion_matrix\n",
    "\n",
    "\n",
    "cm = confusion_matrix(y_cv, y_predicted) #check confusion matrix to find the model accuracy\n",
    "cm "
   ]
  },
  {
   "cell_type": "code",
   "execution_count": 77,
   "metadata": {},
   "outputs": [
    {
     "name": "stdout",
     "output_type": "stream",
     "text": [
      "              precision    recall  f1-score   support\n",
      "\n",
      "           0       0.90      0.91      0.90     56231\n",
      "           1       0.84      0.83      0.84     33739\n",
      "\n",
      "    accuracy                           0.88     89970\n",
      "   macro avg       0.87      0.87      0.87     89970\n",
      "weighted avg       0.88      0.88      0.88     89970\n",
      "\n"
     ]
    }
   ],
   "source": [
    "from sklearn.metrics import confusion_matrix , classification_report\n",
    "\n",
    "\n",
    "print(classification_report(y_cv,y_predicted)) #check classification report"
   ]
  },
  {
   "cell_type": "code",
   "execution_count": null,
   "metadata": {},
   "outputs": [],
   "source": [
    "from sklearn.model_selection import KFold, StratifiedKFold\n",
    "from sklearn.metrics import roc_auc_score\n",
    "\n",
    "def cross_val(X, y, model, params, folds=3):\n",
    "\n",
    "    skf = StratifiedKFold(n_splits=folds, shuffle=True, random_state=21)\n",
    "    for fold, (train_idx, test_idx) in enumerate(skf.split(X, y)):\n",
    "        print(f\"Fold: {fold}\")\n",
    "        x_train, y_train = X.iloc[train_idx], y.iloc[train_idx]\n",
    "        x_test, y_test = X.iloc[test_idx], y.iloc[test_idx]\n",
    "\n",
    "        alg = model(**params)\n",
    "        alg.fit(x_train, y_train,\n",
    "                eval_set=[(x_test, y_test)],\n",
    "                early_stopping_rounds=100,\n",
    "                verbose=400)\n",
    "\n",
    "        pred = alg.predict_proba(x_test)[:, 1]\n",
    "        roc_score = roc_auc_score(y_test, pred)\n",
    "        print(f\"roc_auc_score: {roc_score}\")\n",
    "        print(\"-\"*50)\n",
    "    \n",
    "    return alg\n",
    "\n",
    "cat_params= {'n_estimators': 20000, \n",
    "                  'depth': 4, \n",
    "                  'learning_rate': 0.023, \n",
    "                  'colsample_bylevel': 0.655, \n",
    "                  'bagging_temperature': 0.921, \n",
    "                  'l2_leaf_reg': 10.133,\n",
    "                    'random_seed':42,\n",
    "                    'class_weights':list(weights)\n",
    "            }\n",
    "\n",
    "from catboost import CatBoostClassifier\n",
    "cat_model = cross_val(X_train, y_train, CatBoostClassifier, cat_params)\n",
    "\n",
    "#Training catboost Classifier model\n",
    "params={\n",
    "    'loss_function':'Logloss',\n",
    "    'eval_metric':'AUC',\n",
    "    'verbose':200,\n",
    "    'random_seed':42,\n",
    "    'class_weights':list(weights)\n",
    "}\n",
    "\n",
    "cat_boost=CatBoostClassifier(**params,)\n",
    "cat_boost.fit(X_train,y_train,eval_set=(X_cv,y_cv),use_best_model=True,plot=True)\n",
    "\n",
    "print('Train AUC :',roc_auc_score(y_train, cat_boost.predict_proba(X_train)[:, 1]))\n",
    "print('CV AUC :',roc_auc_score(y_cv, cat_boost.predict_proba(X_cv)[:, 1]))\n",
    "\n",
    "print('Train AUC :',roc_auc_score(y_train, cat_model.predict_proba(X_train)[:, 1]))\n",
    "print('CV AUC :',roc_auc_score(y_cv, cat_model.predict_proba(X_cv)[:, 1]))\n",
    "\n",
    "feat_imp=[t for t in zip(X_train.columns,cat_model.get_feature_importance())]\n",
    "feat_imp_df=pd.DataFrame(feat_imp,columns=['feature','importance'])\n",
    "feat_imp_df=feat_imp_df.sort_values('importance',ascending=False)\n",
    "print('Most important Features are :')\n",
    "feat_imp_df=feat_imp_df[feat_imp_df['importance']>=1]\n",
    "sns.barplot(x='importance',y='feature',data=feat_imp_df)\n",
    "plt.show()\n",
    "\n",
    "cat_model.score(X_cv,y_cv) #score \n",
    "\n",
    "y_predicted = cat_model.predict(X_cv) #predict y\n",
    "\n",
    "from sklearn.metrics import confusion_matrix\n",
    "\n",
    "\n",
    "cm = confusion_matrix(y_cv, y_predicted) #check confusion matrix to find the model accuracy\n",
    "cm \n",
    "\n",
    "from sklearn.metrics import confusion_matrix , classification_report\n",
    "\n",
    "\n",
    "print(classification_report(y_cv,y_predicted)) #check classification report"
   ]
  },
  {
   "cell_type": "markdown",
   "metadata": {},
   "source": [
    "#### Prediction : CatBoost"
   ]
  },
  {
   "cell_type": "code",
   "execution_count": 78,
   "metadata": {},
   "outputs": [],
   "source": [
    "%store -r test_catb\n",
    "%store -r id_catb"
   ]
  },
  {
   "cell_type": "code",
   "execution_count": 80,
   "metadata": {},
   "outputs": [],
   "source": [
    "pred_catb = cat_model.predict_proba(test_catb)[:, 1]"
   ]
  },
  {
   "cell_type": "code",
   "execution_count": 81,
   "metadata": {},
   "outputs": [],
   "source": [
    "predict_catb = pd.DataFrame(pred_catb,index=id_catb.ID,columns=['Is_Lead'])"
   ]
  },
  {
   "cell_type": "code",
   "execution_count": 82,
   "metadata": {},
   "outputs": [],
   "source": [
    "predict_catb.to_csv('catboost_final_v1.csv')"
   ]
  },
  {
   "cell_type": "markdown",
   "metadata": {},
   "source": [
    "# Ensembled model"
   ]
  },
  {
   "cell_type": "code",
   "execution_count": 46,
   "metadata": {},
   "outputs": [],
   "source": [
    "xgb  = pd.read_csv('xgb_v1.csv')\n",
    "catb = pd.read_csv('catboost_final_v1.csv') \n",
    "lgbm = pd.read_csv('lgbm_v1.csv') \n",
    "rf   = pd.read_csv('rf_final_v1.csv') \n",
    "ada  = pd.read_csv('adaboost_final_v1.csv')"
   ]
  },
  {
   "cell_type": "code",
   "execution_count": 53,
   "metadata": {},
   "outputs": [],
   "source": [
    "ave = (0.5*xgb['Is_Lead']+0.3*catb['Is_Lead']+0.2*lgbm['Is_Lead']+0.15*ada['Is_Lead']+0.05*rf['Is_Lead']) #weighted average"
   ]
  },
  {
   "cell_type": "code",
   "execution_count": 54,
   "metadata": {},
   "outputs": [],
   "source": [
    "combine2 = pd.DataFrame(ave.values,index=xgb.ID,columns=['Is_Lead'])"
   ]
  },
  {
   "cell_type": "code",
   "execution_count": 55,
   "metadata": {},
   "outputs": [],
   "source": [
    "combine2.to_csv('catb_xgb_lgbm_rf_ada_combine.csv')"
   ]
  }
 ],
 "metadata": {
  "kernelspec": {
   "display_name": "Python 3",
   "language": "python",
   "name": "python3"
  },
  "language_info": {
   "codemirror_mode": {
    "name": "ipython",
    "version": 3
   },
   "file_extension": ".py",
   "mimetype": "text/x-python",
   "name": "python",
   "nbconvert_exporter": "python",
   "pygments_lexer": "ipython3",
   "version": "3.8.3"
  }
 },
 "nbformat": 4,
 "nbformat_minor": 4
}
